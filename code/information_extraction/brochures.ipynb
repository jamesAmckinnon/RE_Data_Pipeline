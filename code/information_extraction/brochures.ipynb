{
 "cells": [
  {
   "cell_type": "code",
   "execution_count": 1,
   "metadata": {},
   "outputs": [],
   "source": [
    "import numpy as np\n",
    "import pandas as pd\n",
    "from docling.document_converter import DocumentConverter\n",
    "import spacy\n",
    "from gliner_spacy.pipeline import GlinerSpacy\n",
    "import re\n",
    "from collections import defaultdict\n",
    "import pymupdf4llm\n",
    "\n",
    "import ssl\n",
    "ssl._create_default_https_context = ssl._create_unverified_context"
   ]
  },
  {
   "cell_type": "code",
   "execution_count": 51,
   "metadata": {},
   "outputs": [
    {
     "name": "stdout",
     "output_type": "stream",
     "text": [
      "Processing test_pdfs/land_eg_AV.pdf...\n",
      "[                                        ] (0/9===[====                                    ] (1/9===[========                                ] (2/9====[=============                           ] (3/===[=================                       ] (4/====[======================                  ] (5/9===[==========================              ] (6/9====[===============================         ] (7/===[===================================     ] (8/====[========================================] (9/9]\n"
     ]
    }
   ],
   "source": [
    "structured_output = pymupdf4llm.to_markdown(\"test_pdfs/land_eg_AV.pdf\")\n",
    "with open(\"land_eg_AV.md\", \"w\") as file:\n",
    "    file.write(structured_output)"
   ]
  },
  {
   "cell_type": "code",
   "execution_count": 52,
   "metadata": {},
   "outputs": [],
   "source": [
    "# pdf_text = structured_output.replace('\\n', ' ')\n",
    "nlp = spacy.load(\"en_core_web_sm\")"
   ]
  },
  {
   "cell_type": "code",
   "execution_count": 53,
   "metadata": {},
   "outputs": [
    {
     "data": {
      "application/vnd.jupyter.widget-view+json": {
       "model_id": "d5254a8b60054a7ba4370a759a682e24",
       "version_major": 2,
       "version_minor": 0
      },
      "text/plain": [
       "Fetching 4 files:   0%|          | 0/4 [00:00<?, ?it/s]"
      ]
     },
     "metadata": {},
     "output_type": "display_data"
    },
    {
     "name": "stderr",
     "output_type": "stream",
     "text": [
      "/Library/Frameworks/Python.framework/Versions/3.11/lib/python3.11/site-packages/transformers/convert_slow_tokenizer.py:562: UserWarning: The sentencepiece tokenizer that you are converting to a fast tokenizer uses the byte fallback option which is not implemented in the fast tokenizers. In practice this means that the fast version of the tokenizer can produce unknown tokens whereas the sentencepiece version would have converted these unknown tokens into a sequence of byte tokens matching the original piece of text.\n",
      "  warnings.warn(\n",
      "Asking to truncate to max_length but no maximum length is provided and the model has no predefined maximum length. Default to no truncation.\n"
     ]
    }
   ],
   "source": [
    "nlp.add_pipe(\"gliner_spacy\", config={\"labels\": [\"\"]})\n",
    "doc = nlp(structured_output)"
   ]
  },
  {
   "cell_type": "code",
   "execution_count": 55,
   "metadata": {},
   "outputs": [
    {
     "name": "stdout",
     "output_type": "stream",
     "text": [
      "\n",
      " =========  Property Taxes TAX\n",
      ">>>   - Property Taxes \n",
      "\n",
      "\n",
      " =========  Phase I ESA TAX\n",
      ">>>   - Phase I ESA – Feb 23, 2023 \n",
      "\n",
      "\n",
      " =========  $139,188.47 TAX\n",
      ">>>  Property taxes: $139,188.47 (2023) Ford Travelodge (33,400 VPD)  \n",
      "\n",
      "\n",
      " =========  $16,310.45 TAX\n",
      ">>>   Outstanding levies: $16,310.45 per acre Windsor Plywood KMS Tools MTE Logistix \n",
      "\n",
      "\n",
      " =========  VPD TAX\n",
      ">>>   **<Anthony Henday Dr Access** **Stony Plain Rd (33,400 VPD)** \n",
      "\n",
      ">>>  Property taxes: $139,188.47 (2023) Ford Travelodge (33,400 VPD)  \n",
      "\n",
      ">>>  along 184th Street, featuring outstanding access and 184 St (14,600 VPD) egress from both its eastern and western borders. \n",
      "\n",
      ">>>  Ford (33,400 VPD)  \n",
      "\n",
      ">>>   ###### 184 St (14,600 VPD) \n",
      "\n"
     ]
    }
   ],
   "source": [
    "for entity in doc.ents:\n",
    "    print(\"\\n ========= \", entity.text, entity.label_)\n",
    "    lines = structured_output.split('\\n')\n",
    "    for i in range(1, len(lines), 2):\n",
    "        window = lines[i-1:i+1]\n",
    "        window_text = ' '.join(window)\n",
    "        if entity.text in window_text:\n",
    "            print(\">>> \", window_text, \"\\n\")"
   ]
  },
  {
   "cell_type": "code",
   "execution_count": null,
   "metadata": {},
   "outputs": [],
   "source": []
  }
 ],
 "metadata": {
  "kernelspec": {
   "display_name": "Python 3",
   "language": "python",
   "name": "python3"
  },
  "language_info": {
   "codemirror_mode": {
    "name": "ipython",
    "version": 3
   },
   "file_extension": ".py",
   "mimetype": "text/x-python",
   "name": "python",
   "nbconvert_exporter": "python",
   "pygments_lexer": "ipython3",
   "version": "3.11.5"
  }
 },
 "nbformat": 4,
 "nbformat_minor": 2
}
